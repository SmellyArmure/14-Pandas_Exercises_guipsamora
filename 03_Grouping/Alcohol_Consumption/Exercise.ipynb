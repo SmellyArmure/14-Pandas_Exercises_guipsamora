{
 "cells": [
  {
   "cell_type": "markdown",
   "metadata": {},
   "source": [
    "# Ex - GroupBy"
   ]
  },
  {
   "cell_type": "markdown",
   "metadata": {},
   "source": [
    "### Introduction:\n",
    "\n",
    "GroupBy can be summarized as Split-Apply-Combine.\n",
    "\n",
    "Special thanks to: https://github.com/justmarkham for sharing the dataset and materials.\n",
    "\n",
    "Check out this [Diagram](http://i.imgur.com/yjNkiwL.png)  \n",
    "### Step 1. Import the necessary libraries"
   ]
  },
  {
   "cell_type": "code",
   "execution_count": 1,
   "metadata": {},
   "outputs": [],
   "source": [
    "import pandas as pd\n",
    "import numpy as np\n",
    "import matplotlib.pyplot as plt\n",
    "import seaborn as sns"
   ]
  },
  {
   "cell_type": "markdown",
   "metadata": {},
   "source": [
    "### Step 2. Import the dataset from this [address](https://raw.githubusercontent.com/justmarkham/DAT8/master/data/drinks.csv). "
   ]
  },
  {
   "cell_type": "markdown",
   "metadata": {},
   "source": [
    "### Step 3. Assign it to a variable called drinks."
   ]
  },
  {
   "cell_type": "code",
   "execution_count": 2,
   "metadata": {},
   "outputs": [
    {
     "data": {
      "text/html": [
       "<div>\n",
       "<style scoped>\n",
       "    .dataframe tbody tr th:only-of-type {\n",
       "        vertical-align: middle;\n",
       "    }\n",
       "\n",
       "    .dataframe tbody tr th {\n",
       "        vertical-align: top;\n",
       "    }\n",
       "\n",
       "    .dataframe thead th {\n",
       "        text-align: right;\n",
       "    }\n",
       "</style>\n",
       "<table border=\"1\" class=\"dataframe\">\n",
       "  <thead>\n",
       "    <tr style=\"text-align: right;\">\n",
       "      <th></th>\n",
       "      <th>country</th>\n",
       "      <th>beer_servings</th>\n",
       "      <th>spirit_servings</th>\n",
       "      <th>wine_servings</th>\n",
       "      <th>total_litres_of_pure_alcohol</th>\n",
       "      <th>continent</th>\n",
       "    </tr>\n",
       "  </thead>\n",
       "  <tbody>\n",
       "    <tr>\n",
       "      <th>0</th>\n",
       "      <td>Afghanistan</td>\n",
       "      <td>0</td>\n",
       "      <td>0</td>\n",
       "      <td>0</td>\n",
       "      <td>0.0</td>\n",
       "      <td>AS</td>\n",
       "    </tr>\n",
       "    <tr>\n",
       "      <th>1</th>\n",
       "      <td>Albania</td>\n",
       "      <td>89</td>\n",
       "      <td>132</td>\n",
       "      <td>54</td>\n",
       "      <td>4.9</td>\n",
       "      <td>EU</td>\n",
       "    </tr>\n",
       "    <tr>\n",
       "      <th>2</th>\n",
       "      <td>Algeria</td>\n",
       "      <td>25</td>\n",
       "      <td>0</td>\n",
       "      <td>14</td>\n",
       "      <td>0.7</td>\n",
       "      <td>AF</td>\n",
       "    </tr>\n",
       "  </tbody>\n",
       "</table>\n",
       "</div>"
      ],
      "text/plain": [
       "       country  beer_servings  spirit_servings  wine_servings  \\\n",
       "0  Afghanistan              0                0              0   \n",
       "1      Albania             89              132             54   \n",
       "2      Algeria             25                0             14   \n",
       "\n",
       "   total_litres_of_pure_alcohol continent  \n",
       "0                           0.0        AS  \n",
       "1                           4.9        EU  \n",
       "2                           0.7        AF  "
      ]
     },
     "execution_count": 2,
     "metadata": {},
     "output_type": "execute_result"
    }
   ],
   "source": [
    "url = 'https://raw.githubusercontent.com/justmarkham/DAT8/master/data/drinks.csv'\n",
    "drinks = pd.read_csv(url)\n",
    "drinks.head(3)"
   ]
  },
  {
   "cell_type": "markdown",
   "metadata": {},
   "source": [
    "### Step 4. Which continent drinks more beer on average?"
   ]
  },
  {
   "cell_type": "code",
   "execution_count": 3,
   "metadata": {},
   "outputs": [
    {
     "data": {
      "text/html": [
       "<div>\n",
       "<style scoped>\n",
       "    .dataframe tbody tr th:only-of-type {\n",
       "        vertical-align: middle;\n",
       "    }\n",
       "\n",
       "    .dataframe tbody tr th {\n",
       "        vertical-align: top;\n",
       "    }\n",
       "\n",
       "    .dataframe thead th {\n",
       "        text-align: right;\n",
       "    }\n",
       "</style>\n",
       "<table border=\"1\" class=\"dataframe\">\n",
       "  <thead>\n",
       "    <tr style=\"text-align: right;\">\n",
       "      <th></th>\n",
       "      <th>beer_servings</th>\n",
       "    </tr>\n",
       "    <tr>\n",
       "      <th>continent</th>\n",
       "      <th></th>\n",
       "    </tr>\n",
       "  </thead>\n",
       "  <tbody>\n",
       "    <tr>\n",
       "      <th>EU</th>\n",
       "      <td>8720</td>\n",
       "    </tr>\n",
       "  </tbody>\n",
       "</table>\n",
       "</div>"
      ],
      "text/plain": [
       "           beer_servings\n",
       "continent               \n",
       "EU                  8720"
      ]
     },
     "execution_count": 3,
     "metadata": {},
     "output_type": "execute_result"
    }
   ],
   "source": [
    "drinks.groupby('continent')\\\n",
    "      .agg({'beer_servings':'sum'})\\\n",
    "      .sort_values(by='beer_servings', ascending=False).iloc[0:1]"
   ]
  },
  {
   "cell_type": "markdown",
   "metadata": {},
   "source": [
    "### Step 5. For each continent print the statistics for wine consumption."
   ]
  },
  {
   "cell_type": "code",
   "execution_count": 4,
   "metadata": {},
   "outputs": [
    {
     "data": {
      "text/html": [
       "<div>\n",
       "<style scoped>\n",
       "    .dataframe tbody tr th:only-of-type {\n",
       "        vertical-align: middle;\n",
       "    }\n",
       "\n",
       "    .dataframe tbody tr th {\n",
       "        vertical-align: top;\n",
       "    }\n",
       "\n",
       "    .dataframe thead th {\n",
       "        text-align: right;\n",
       "    }\n",
       "</style>\n",
       "<table border=\"1\" class=\"dataframe\">\n",
       "  <thead>\n",
       "    <tr style=\"text-align: right;\">\n",
       "      <th></th>\n",
       "      <th>beer_servings</th>\n",
       "      <th>spirit_servings</th>\n",
       "      <th>wine_servings</th>\n",
       "    </tr>\n",
       "    <tr>\n",
       "      <th>continent</th>\n",
       "      <th></th>\n",
       "      <th></th>\n",
       "      <th></th>\n",
       "    </tr>\n",
       "  </thead>\n",
       "  <tbody>\n",
       "    <tr>\n",
       "      <th>AF</th>\n",
       "      <td>65.3</td>\n",
       "      <td>17.4</td>\n",
       "      <td>17.3</td>\n",
       "    </tr>\n",
       "    <tr>\n",
       "      <th>AS</th>\n",
       "      <td>34.6</td>\n",
       "      <td>56.9</td>\n",
       "      <td>8.5</td>\n",
       "    </tr>\n",
       "    <tr>\n",
       "      <th>EU</th>\n",
       "      <td>41.4</td>\n",
       "      <td>28.3</td>\n",
       "      <td>30.4</td>\n",
       "    </tr>\n",
       "    <tr>\n",
       "      <th>OC</th>\n",
       "      <td>48.8</td>\n",
       "      <td>31.8</td>\n",
       "      <td>19.4</td>\n",
       "    </tr>\n",
       "    <tr>\n",
       "      <th>SA</th>\n",
       "      <td>49.7</td>\n",
       "      <td>32.6</td>\n",
       "      <td>17.7</td>\n",
       "    </tr>\n",
       "  </tbody>\n",
       "</table>\n",
       "</div>"
      ],
      "text/plain": [
       "           beer_servings  spirit_servings  wine_servings\n",
       "continent                                               \n",
       "AF                  65.3             17.4           17.3\n",
       "AS                  34.6             56.9            8.5\n",
       "EU                  41.4             28.3           30.4\n",
       "OC                  48.8             31.8           19.4\n",
       "SA                  49.7             32.6           17.7"
      ]
     },
     "execution_count": 4,
     "metadata": {},
     "output_type": "execute_result"
    }
   ],
   "source": [
    "calc = lambda x: round(x*100/x.sum(),1) #x['wine_servings']/\n",
    "cont_pct_drinks = drinks.groupby('continent')['beer_servings', 'spirit_servings', 'wine_servings'].sum()\\\n",
    "      .agg(calc, axis=1)\n",
    "cont_pct_drinks"
   ]
  },
  {
   "cell_type": "code",
   "execution_count": 5,
   "metadata": {},
   "outputs": [
    {
     "data": {
      "text/plain": [
       "<Figure size 432x288 with 0 Axes>"
      ]
     },
     "metadata": {},
     "output_type": "display_data"
    },
    {
     "data": {
      "image/png": "[encoded data removed]",
      "text/plain": [
       "<Figure size 432x288 with 1 Axes>"
      ]
     },
     "metadata": {},
     "output_type": "display_data"
    }
   ],
   "source": [
    "sns.set('talk', 'ticks')\n",
    "fig,ax = plt.subplots(1)\n",
    "fig.patch.set_facecolor('white') # fig.patch.set_alpha(1)\n",
    "_ = cont_pct_drinks.reset_index()\n",
    "colors = ['gold', 'green', 'purple']\n",
    "dict_cont={'SA': 'South Am.',  'OC': 'Oceania', 'EU': 'Europe', \n",
    "           'AS': 'Asia', 'AF': 'Africa'}\n",
    "_.plot.barh(x='continent', y=_.columns[1:], width=0.9,color=colors, stacked=True,rot=0, ax=ax)\n",
    "ax.set_xlabel(\"Servings(percent)\")\n",
    "vals = _.iloc[:,1:].values.reshape(-1)\n",
    "for i, (p, v) in enumerate(zip(ax.patches, vals)):\n",
    "    ax.text(p.get_width()/2 + p.get_x()-2, p.get_y()+0.35, str(v)+'%', fontsize=14)\n",
    "ax.set_yticklabels(_['continent'].map(dict_cont))\n",
    "sns.despine()\n",
    "plt.legend(['beers', 'spirits', 'wines'], bbox_to_anchor=(1,1.15), fontsize=17, ncol=3)\n",
    "plt.show()"
   ]
  },
  {
   "cell_type": "markdown",
   "metadata": {},
   "source": [
    "### Step 6. Print the mean alcohol consumption per continent for every column"
   ]
  },
  {
   "cell_type": "code",
   "execution_count": 6,
   "metadata": {},
   "outputs": [
    {
     "data": {
      "text/html": [
       "<div>\n",
       "<style scoped>\n",
       "    .dataframe tbody tr th:only-of-type {\n",
       "        vertical-align: middle;\n",
       "    }\n",
       "\n",
       "    .dataframe tbody tr th {\n",
       "        vertical-align: top;\n",
       "    }\n",
       "\n",
       "    .dataframe thead th {\n",
       "        text-align: right;\n",
       "    }\n",
       "</style>\n",
       "<table border=\"1\" class=\"dataframe\">\n",
       "  <thead>\n",
       "    <tr style=\"text-align: right;\">\n",
       "      <th></th>\n",
       "      <th>country</th>\n",
       "      <th>beer_servings</th>\n",
       "      <th>spirit_servings</th>\n",
       "      <th>wine_servings</th>\n",
       "      <th>total_litres_of_pure_alcohol</th>\n",
       "      <th>continent</th>\n",
       "    </tr>\n",
       "  </thead>\n",
       "  <tbody>\n",
       "    <tr>\n",
       "      <th>0</th>\n",
       "      <td>Afghanistan</td>\n",
       "      <td>0</td>\n",
       "      <td>0</td>\n",
       "      <td>0</td>\n",
       "      <td>0.0</td>\n",
       "      <td>AS</td>\n",
       "    </tr>\n",
       "    <tr>\n",
       "      <th>1</th>\n",
       "      <td>Albania</td>\n",
       "      <td>89</td>\n",
       "      <td>132</td>\n",
       "      <td>54</td>\n",
       "      <td>4.9</td>\n",
       "      <td>EU</td>\n",
       "    </tr>\n",
       "    <tr>\n",
       "      <th>2</th>\n",
       "      <td>Algeria</td>\n",
       "      <td>25</td>\n",
       "      <td>0</td>\n",
       "      <td>14</td>\n",
       "      <td>0.7</td>\n",
       "      <td>AF</td>\n",
       "    </tr>\n",
       "    <tr>\n",
       "      <th>3</th>\n",
       "      <td>Andorra</td>\n",
       "      <td>245</td>\n",
       "      <td>138</td>\n",
       "      <td>312</td>\n",
       "      <td>12.4</td>\n",
       "      <td>EU</td>\n",
       "    </tr>\n",
       "    <tr>\n",
       "      <th>4</th>\n",
       "      <td>Angola</td>\n",
       "      <td>217</td>\n",
       "      <td>57</td>\n",
       "      <td>45</td>\n",
       "      <td>5.9</td>\n",
       "      <td>AF</td>\n",
       "    </tr>\n",
       "  </tbody>\n",
       "</table>\n",
       "</div>"
      ],
      "text/plain": [
       "       country  beer_servings  spirit_servings  wine_servings  \\\n",
       "0  Afghanistan              0                0              0   \n",
       "1      Albania             89              132             54   \n",
       "2      Algeria             25                0             14   \n",
       "3      Andorra            245              138            312   \n",
       "4       Angola            217               57             45   \n",
       "\n",
       "   total_litres_of_pure_alcohol continent  \n",
       "0                           0.0        AS  \n",
       "1                           4.9        EU  \n",
       "2                           0.7        AF  \n",
       "3                          12.4        EU  \n",
       "4                           5.9        AF  "
      ]
     },
     "execution_count": 6,
     "metadata": {},
     "output_type": "execute_result"
    }
   ],
   "source": [
    "drinks.head()"
   ]
  },
  {
   "cell_type": "code",
   "execution_count": 9,
   "metadata": {},
   "outputs": [
    {
     "data": {
      "text/html": [
       "<div>\n",
       "<style scoped>\n",
       "    .dataframe tbody tr th:only-of-type {\n",
       "        vertical-align: middle;\n",
       "    }\n",
       "\n",
       "    .dataframe tbody tr th {\n",
       "        vertical-align: top;\n",
       "    }\n",
       "\n",
       "    .dataframe thead th {\n",
       "        text-align: right;\n",
       "    }\n",
       "</style>\n",
       "<table border=\"1\" class=\"dataframe\">\n",
       "  <thead>\n",
       "    <tr style=\"text-align: right;\">\n",
       "      <th></th>\n",
       "      <th>cnt</th>\n",
       "      <th>beer</th>\n",
       "      <th>spirit</th>\n",
       "      <th>wine</th>\n",
       "      <th>tot_alc</th>\n",
       "      <th>cont</th>\n",
       "    </tr>\n",
       "  </thead>\n",
       "  <tbody>\n",
       "    <tr>\n",
       "      <th>0</th>\n",
       "      <td>Afghanistan</td>\n",
       "      <td>0</td>\n",
       "      <td>0</td>\n",
       "      <td>0</td>\n",
       "      <td>0.0</td>\n",
       "      <td>AS</td>\n",
       "    </tr>\n",
       "    <tr>\n",
       "      <th>1</th>\n",
       "      <td>Albania</td>\n",
       "      <td>89</td>\n",
       "      <td>132</td>\n",
       "      <td>54</td>\n",
       "      <td>4.9</td>\n",
       "      <td>EU</td>\n",
       "    </tr>\n",
       "  </tbody>\n",
       "</table>\n",
       "</div>"
      ],
      "text/plain": [
       "           cnt  beer  spirit  wine  tot_alc cont\n",
       "0  Afghanistan     0       0     0      0.0   AS\n",
       "1      Albania    89     132    54      4.9   EU"
      ]
     },
     "execution_count": 9,
     "metadata": {},
     "output_type": "execute_result"
    }
   ],
   "source": [
    "drinks.rename(columns={'country': 'cnt', 'beer_servings': 'beer',\n",
    "                       'spirit_servings': 'spirit', 'wine_servings': 'wine',\n",
    "                       'total_litres_of_pure_alcohol': 'tot_alc', 'continent': 'cont' },\n",
    "             inplace=True)\n",
    "drinks.head(2)"
   ]
  },
  {
   "cell_type": "markdown",
   "metadata": {},
   "source": [
    "### Step 7. Print the median alcohol consumption per continent for every column"
   ]
  },
  {
   "cell_type": "code",
   "execution_count": 156,
   "metadata": {},
   "outputs": [
    {
     "data": {
      "text/html": [
       "<div>\n",
       "<style scoped>\n",
       "    .dataframe tbody tr th:only-of-type {\n",
       "        vertical-align: middle;\n",
       "    }\n",
       "\n",
       "    .dataframe tbody tr th {\n",
       "        vertical-align: top;\n",
       "    }\n",
       "\n",
       "    .dataframe thead th {\n",
       "        text-align: right;\n",
       "    }\n",
       "</style>\n",
       "<table border=\"1\" class=\"dataframe\">\n",
       "  <thead>\n",
       "    <tr style=\"text-align: right;\">\n",
       "      <th></th>\n",
       "      <th>beer__median</th>\n",
       "      <th>beer__min</th>\n",
       "      <th>beer__max</th>\n",
       "      <th>spirit__median</th>\n",
       "      <th>spirit__min</th>\n",
       "      <th>spirit__max</th>\n",
       "      <th>wine__median</th>\n",
       "      <th>wine__min</th>\n",
       "      <th>wine__max</th>\n",
       "      <th>tot_alc__median</th>\n",
       "      <th>tot_alc__min</th>\n",
       "      <th>tot_alc__max</th>\n",
       "    </tr>\n",
       "    <tr>\n",
       "      <th>cont</th>\n",
       "      <th></th>\n",
       "      <th></th>\n",
       "      <th></th>\n",
       "      <th></th>\n",
       "      <th></th>\n",
       "      <th></th>\n",
       "      <th></th>\n",
       "      <th></th>\n",
       "      <th></th>\n",
       "      <th></th>\n",
       "      <th></th>\n",
       "      <th></th>\n",
       "    </tr>\n",
       "  </thead>\n",
       "  <tbody>\n",
       "    <tr>\n",
       "      <th>AF</th>\n",
       "      <td>32.0</td>\n",
       "      <td>0</td>\n",
       "      <td>376</td>\n",
       "      <td>3.0</td>\n",
       "      <td>0</td>\n",
       "      <td>152</td>\n",
       "      <td>2.0</td>\n",
       "      <td>0</td>\n",
       "      <td>233</td>\n",
       "      <td>2.30</td>\n",
       "      <td>0.0</td>\n",
       "      <td>9.1</td>\n",
       "    </tr>\n",
       "    <tr>\n",
       "      <th>AS</th>\n",
       "      <td>17.5</td>\n",
       "      <td>0</td>\n",
       "      <td>247</td>\n",
       "      <td>16.0</td>\n",
       "      <td>0</td>\n",
       "      <td>326</td>\n",
       "      <td>1.0</td>\n",
       "      <td>0</td>\n",
       "      <td>123</td>\n",
       "      <td>1.20</td>\n",
       "      <td>0.0</td>\n",
       "      <td>11.5</td>\n",
       "    </tr>\n",
       "    <tr>\n",
       "      <th>EU</th>\n",
       "      <td>219.0</td>\n",
       "      <td>0</td>\n",
       "      <td>361</td>\n",
       "      <td>122.0</td>\n",
       "      <td>0</td>\n",
       "      <td>373</td>\n",
       "      <td>128.0</td>\n",
       "      <td>0</td>\n",
       "      <td>370</td>\n",
       "      <td>10.00</td>\n",
       "      <td>0.0</td>\n",
       "      <td>14.4</td>\n",
       "    </tr>\n",
       "    <tr>\n",
       "      <th>OC</th>\n",
       "      <td>52.5</td>\n",
       "      <td>0</td>\n",
       "      <td>306</td>\n",
       "      <td>37.0</td>\n",
       "      <td>0</td>\n",
       "      <td>254</td>\n",
       "      <td>8.5</td>\n",
       "      <td>0</td>\n",
       "      <td>212</td>\n",
       "      <td>1.75</td>\n",
       "      <td>0.0</td>\n",
       "      <td>10.4</td>\n",
       "    </tr>\n",
       "    <tr>\n",
       "      <th>SA</th>\n",
       "      <td>162.5</td>\n",
       "      <td>93</td>\n",
       "      <td>333</td>\n",
       "      <td>108.5</td>\n",
       "      <td>25</td>\n",
       "      <td>302</td>\n",
       "      <td>12.0</td>\n",
       "      <td>1</td>\n",
       "      <td>221</td>\n",
       "      <td>6.85</td>\n",
       "      <td>3.8</td>\n",
       "      <td>8.3</td>\n",
       "    </tr>\n",
       "  </tbody>\n",
       "</table>\n",
       "</div>"
      ],
      "text/plain": [
       "      beer__median  beer__min  beer__max  spirit__median  spirit__min  \\\n",
       "cont                                                                    \n",
       "AF            32.0          0        376             3.0            0   \n",
       "AS            17.5          0        247            16.0            0   \n",
       "EU           219.0          0        361           122.0            0   \n",
       "OC            52.5          0        306            37.0            0   \n",
       "SA           162.5         93        333           108.5           25   \n",
       "\n",
       "      spirit__max  wine__median  wine__min  wine__max  tot_alc__median  \\\n",
       "cont                                                                     \n",
       "AF            152           2.0          0        233             2.30   \n",
       "AS            326           1.0          0        123             1.20   \n",
       "EU            373         128.0          0        370            10.00   \n",
       "OC            254           8.5          0        212             1.75   \n",
       "SA            302          12.0          1        221             6.85   \n",
       "\n",
       "      tot_alc__min  tot_alc__max  \n",
       "cont                              \n",
       "AF             0.0           9.1  \n",
       "AS             0.0          11.5  \n",
       "EU             0.0          14.4  \n",
       "OC             0.0          10.4  \n",
       "SA             3.8           8.3  "
      ]
     },
     "execution_count": 156,
     "metadata": {},
     "output_type": "execute_result"
    }
   ],
   "source": [
    "agg_df = drinks.groupby('cont').agg([np.median, min, max])\n",
    "agg_df.columns = ['__'.join(c).strip() for c in agg_df.columns.values]\n",
    "agg_df.head()"
   ]
  },
  {
   "cell_type": "code",
   "execution_count": 157,
   "metadata": {},
   "outputs": [
    {
     "data": {
      "image/png": "[encoded data removed]",
      "text/plain": [
       "<Figure size 432x288 with 1 Axes>"
      ]
     },
     "metadata": {},
     "output_type": "display_data"
    }
   ],
   "source": [
    "fig, ax = plt.subplots(1)\n",
    "ax.scatter(x=np.arange(5), y=agg_df.reset_index()['tot_alc__min'], s=50, c='b', label='min', zorder=10)\n",
    "ax.scatter(x=np.arange(5), y=agg_df.reset_index()['tot_alc__max'], s=50, c='r', label='max', zorder=10)\n",
    "ax.vlines(x=np.arange(5),\n",
    "          ymin=agg_df.reset_index()['tot_alc__min'],\n",
    "          ymax=agg_df.reset_index()['tot_alc__max'],\n",
    "          color='k', zorder=5)\n",
    "agg_df.reset_index().plot.bar(x='cont', y='tot_alc__median', width=0.9, ax=ax, rot=0,color='grey', zorder=2)\n",
    "ax.legend(frameon=1, loc='upper left', prop={'size': 15}).get_frame().set_alpha(0.3)\n",
    "ax.axis(option='square')\n",
    "ax.set_xlabel('Continent')\n",
    "sns.despine()"
   ]
  },
  {
   "cell_type": "code",
   "execution_count": 175,
   "metadata": {},
   "outputs": [
    {
     "data": {
      "text/html": [
       "<div>\n",
       "<style scoped>\n",
       "    .dataframe tbody tr th:only-of-type {\n",
       "        vertical-align: middle;\n",
       "    }\n",
       "\n",
       "    .dataframe tbody tr th {\n",
       "        vertical-align: top;\n",
       "    }\n",
       "\n",
       "    .dataframe thead th {\n",
       "        text-align: right;\n",
       "    }\n",
       "</style>\n",
       "<table border=\"1\" class=\"dataframe\">\n",
       "  <thead>\n",
       "    <tr style=\"text-align: right;\">\n",
       "      <th></th>\n",
       "      <th>cnt</th>\n",
       "      <th>beer</th>\n",
       "      <th>spirit</th>\n",
       "      <th>wine</th>\n",
       "      <th>tot_alc</th>\n",
       "      <th>cont</th>\n",
       "    </tr>\n",
       "  </thead>\n",
       "  <tbody>\n",
       "    <tr>\n",
       "      <th>111</th>\n",
       "      <td>Monaco</td>\n",
       "      <td>0</td>\n",
       "      <td>0</td>\n",
       "      <td>0</td>\n",
       "      <td>0.0</td>\n",
       "      <td>EU</td>\n",
       "    </tr>\n",
       "    <tr>\n",
       "      <th>147</th>\n",
       "      <td>San Marino</td>\n",
       "      <td>0</td>\n",
       "      <td>0</td>\n",
       "      <td>0</td>\n",
       "      <td>0.0</td>\n",
       "      <td>EU</td>\n",
       "    </tr>\n",
       "  </tbody>\n",
       "</table>\n",
       "</div>"
      ],
      "text/plain": [
       "            cnt  beer  spirit  wine  tot_alc cont\n",
       "111      Monaco     0       0     0      0.0   EU\n",
       "147  San Marino     0       0     0      0.0   EU"
      ]
     },
     "execution_count": 175,
     "metadata": {},
     "output_type": "execute_result"
    }
   ],
   "source": [
    "# Which country in Europe drink no alcohol ?\n",
    "drinks[(drinks['tot_alc']==0) & (drinks['cont']=='EU')]"
   ]
  },
  {
   "cell_type": "code",
   "execution_count": 181,
   "metadata": {},
   "outputs": [
    {
     "data": {
      "text/html": [
       "<div>\n",
       "<style scoped>\n",
       "    .dataframe tbody tr th:only-of-type {\n",
       "        vertical-align: middle;\n",
       "    }\n",
       "\n",
       "    .dataframe tbody tr th {\n",
       "        vertical-align: top;\n",
       "    }\n",
       "\n",
       "    .dataframe thead th {\n",
       "        text-align: right;\n",
       "    }\n",
       "</style>\n",
       "<table border=\"1\" class=\"dataframe\">\n",
       "  <thead>\n",
       "    <tr style=\"text-align: right;\">\n",
       "      <th></th>\n",
       "      <th>cnt</th>\n",
       "      <th>beer</th>\n",
       "      <th>spirit</th>\n",
       "      <th>wine</th>\n",
       "      <th>tot_alc</th>\n",
       "    </tr>\n",
       "    <tr>\n",
       "      <th>cont</th>\n",
       "      <th></th>\n",
       "      <th></th>\n",
       "      <th></th>\n",
       "      <th></th>\n",
       "      <th></th>\n",
       "    </tr>\n",
       "  </thead>\n",
       "  <tbody>\n",
       "    <tr>\n",
       "      <th>AF</th>\n",
       "      <td>Algeria</td>\n",
       "      <td>1</td>\n",
       "      <td>0</td>\n",
       "      <td>0</td>\n",
       "      <td>0.1</td>\n",
       "    </tr>\n",
       "    <tr>\n",
       "      <th>AS</th>\n",
       "      <td>Bahrain</td>\n",
       "      <td>0</td>\n",
       "      <td>0</td>\n",
       "      <td>0</td>\n",
       "      <td>0.1</td>\n",
       "    </tr>\n",
       "    <tr>\n",
       "      <th>EU</th>\n",
       "      <td>Albania</td>\n",
       "      <td>21</td>\n",
       "      <td>27</td>\n",
       "      <td>5</td>\n",
       "      <td>1.3</td>\n",
       "    </tr>\n",
       "    <tr>\n",
       "      <th>OC</th>\n",
       "      <td>Australia</td>\n",
       "      <td>0</td>\n",
       "      <td>0</td>\n",
       "      <td>1</td>\n",
       "      <td>0.9</td>\n",
       "    </tr>\n",
       "    <tr>\n",
       "      <th>SA</th>\n",
       "      <td>Argentina</td>\n",
       "      <td>93</td>\n",
       "      <td>25</td>\n",
       "      <td>1</td>\n",
       "      <td>3.8</td>\n",
       "    </tr>\n",
       "  </tbody>\n",
       "</table>\n",
       "</div>"
      ],
      "text/plain": [
       "            cnt  beer  spirit  wine  tot_alc\n",
       "cont                                        \n",
       "AF      Algeria     1       0     0      0.1\n",
       "AS      Bahrain     0       0     0      0.1\n",
       "EU      Albania    21      27     5      1.3\n",
       "OC    Australia     0       0     1      0.9\n",
       "SA    Argentina    93      25     1      3.8"
      ]
     },
     "execution_count": 181,
     "metadata": {},
     "output_type": "execute_result"
    }
   ],
   "source": [
    "# Which country in each continent Europe drink less alcohol (but not zero) ?\n",
    "drinks[drinks['tot_alc']!=0].groupby('cont').min()"
   ]
  },
  {
   "cell_type": "code",
   "execution_count": 182,
   "metadata": {},
   "outputs": [
    {
     "data": {
      "text/html": [
       "<div>\n",
       "<style scoped>\n",
       "    .dataframe tbody tr th:only-of-type {\n",
       "        vertical-align: middle;\n",
       "    }\n",
       "\n",
       "    .dataframe tbody tr th {\n",
       "        vertical-align: top;\n",
       "    }\n",
       "\n",
       "    .dataframe thead th {\n",
       "        text-align: right;\n",
       "    }\n",
       "</style>\n",
       "<table border=\"1\" class=\"dataframe\">\n",
       "  <thead>\n",
       "    <tr style=\"text-align: right;\">\n",
       "      <th></th>\n",
       "      <th>cnt</th>\n",
       "      <th>beer</th>\n",
       "      <th>spirit</th>\n",
       "      <th>wine</th>\n",
       "      <th>tot_alc</th>\n",
       "    </tr>\n",
       "    <tr>\n",
       "      <th>cont</th>\n",
       "      <th></th>\n",
       "      <th></th>\n",
       "      <th></th>\n",
       "      <th></th>\n",
       "      <th></th>\n",
       "    </tr>\n",
       "  </thead>\n",
       "  <tbody>\n",
       "    <tr>\n",
       "      <th>AF</th>\n",
       "      <td>Zimbabwe</td>\n",
       "      <td>376</td>\n",
       "      <td>152</td>\n",
       "      <td>233</td>\n",
       "      <td>9.1</td>\n",
       "    </tr>\n",
       "    <tr>\n",
       "      <th>AS</th>\n",
       "      <td>Yemen</td>\n",
       "      <td>247</td>\n",
       "      <td>326</td>\n",
       "      <td>123</td>\n",
       "      <td>11.5</td>\n",
       "    </tr>\n",
       "    <tr>\n",
       "      <th>EU</th>\n",
       "      <td>United Kingdom</td>\n",
       "      <td>361</td>\n",
       "      <td>373</td>\n",
       "      <td>370</td>\n",
       "      <td>14.4</td>\n",
       "    </tr>\n",
       "    <tr>\n",
       "      <th>OC</th>\n",
       "      <td>Vanuatu</td>\n",
       "      <td>306</td>\n",
       "      <td>254</td>\n",
       "      <td>212</td>\n",
       "      <td>10.4</td>\n",
       "    </tr>\n",
       "    <tr>\n",
       "      <th>SA</th>\n",
       "      <td>Venezuela</td>\n",
       "      <td>333</td>\n",
       "      <td>302</td>\n",
       "      <td>221</td>\n",
       "      <td>8.3</td>\n",
       "    </tr>\n",
       "  </tbody>\n",
       "</table>\n",
       "</div>"
      ],
      "text/plain": [
       "                 cnt  beer  spirit  wine  tot_alc\n",
       "cont                                             \n",
       "AF          Zimbabwe   376     152   233      9.1\n",
       "AS             Yemen   247     326   123     11.5\n",
       "EU    United Kingdom   361     373   370     14.4\n",
       "OC           Vanuatu   306     254   212     10.4\n",
       "SA         Venezuela   333     302   221      8.3"
      ]
     },
     "execution_count": 182,
     "metadata": {},
     "output_type": "execute_result"
    }
   ],
   "source": [
    "# Which country in each continent Europe drink the more alcohol ?\n",
    "drinks.groupby('cont').max()"
   ]
  },
  {
   "cell_type": "markdown",
   "metadata": {},
   "source": [
    "### Step 8. Print the mean, min and max values for spirit consumption.\n",
    "#### This time output a DataFrame"
   ]
  },
  {
   "cell_type": "code",
   "execution_count": 131,
   "metadata": {},
   "outputs": [
    {
     "data": {
      "text/plain": [
       "min       0.000000\n",
       "max     438.000000\n",
       "mean     80.994819\n",
       "Name: spirit, dtype: float64"
      ]
     },
     "execution_count": 131,
     "metadata": {},
     "output_type": "execute_result"
    }
   ],
   "source": [
    "drinks['spirit'].agg([min, max, np.mean])"
   ]
  },
  {
   "cell_type": "code",
   "execution_count": 152,
   "metadata": {},
   "outputs": [
    {
     "name": "stdout",
     "output_type": "stream",
     "text": [
      "Afghanistan | Algeria | Bangladesh | Bhutan | Burundi | North Korea | Equatorial Guinea | Eritrea | Gambia | Guinea | Iran | Kuwait | Laos | Libya | Maldives | Marshall Islands | Mauritania | Monaco | Nauru | Pakistan | San Marino | Somalia | Yemen | "
     ]
    }
   ],
   "source": [
    "# Countries that have minimum value for spirit_servings\n",
    "for n in drinks.loc[drinks['spirit']==drinks['spirit'].min()]['cnt'].to_list():\n",
    "    print(n,end=' | ')"
   ]
  },
  {
   "cell_type": "code",
   "execution_count": 153,
   "metadata": {},
   "outputs": [
    {
     "name": "stdout",
     "output_type": "stream",
     "text": [
      "68    Grenada\n",
      "Name: cnt, dtype: object\n"
     ]
    }
   ],
   "source": [
    "# Country that have maximum value for spirit_servings\n",
    "print(drinks.loc[drinks['spirit']==drinks['spirit'].max()]['cnt'])"
   ]
  },
  {
   "cell_type": "code",
   "execution_count": 129,
   "metadata": {},
   "outputs": [
    {
     "data": {
      "text/plain": [
       "80.99481865284974"
      ]
     },
     "execution_count": 129,
     "metadata": {},
     "output_type": "execute_result"
    }
   ],
   "source": [
    "# Mean value for spirit servings\n",
    "drinks['spirit'].mean()"
   ]
  },
  {
   "cell_type": "code",
   "execution_count": 154,
   "metadata": {},
   "outputs": [
    {
     "name": "stdout",
     "output_type": "stream",
     "text": [
      "Afghanistan | Algeria | Angola | Argentina | Australia | Austria | Azerbaijan | Bahrain | Bangladesh | Benin | Bhutan | Bolivia | Botswana | Brunei | Burkina Faso | Burundi | Cote d'Ivoire | Cabo Verde | Cambodia | Cameroon | Central African Republic | Chad | Colombia | Comoros | Congo | North Korea | DR Congo | Djibouti | Ecuador | Egypt | El Salvador | Equatorial Guinea | Eritrea | Ethiopia | Fiji | Gambia | Ghana | Guatemala | Guinea | Guinea-Bissau | Iceland | Indonesia | Iran | Iraq | Israel | Italy | Jordan | Kenya | Kiribati | Kuwait | Laos | Lebanon | Lesotho | Libya | Madagascar | Malawi | Malaysia | Maldives | Mali | Marshall Islands | Mauritania | Mauritius | Mexico | Micronesia | Monaco | Morocco | Mozambique | Myanmar | Namibia | Nauru | Nepal | New Zealand | Niger | Nigeria | Norway | Oman | Pakistan | Palau | Papua New Guinea | Portugal | Qatar | South Korea | Rwanda | Samoa | San Marino | Sao Tome & Principe | Saudi Arabia | Senegal | Seychelles | Sierra Leone | Singapore | Slovenia | Solomon Islands | Somalia | South Africa | Sudan | Swaziland | Sweden | Syria | Tajikistan | Macedonia | Timor-Leste | Togo | Tonga | Tunisia | Turkey | Turkmenistan | Tuvalu | Uganda | Tanzania | Uruguay | Vanuatu | Vietnam | Yemen | Zambia | Zimbabwe | "
     ]
    }
   ],
   "source": [
    "# List of countries drinking less spirit than mean value\n",
    "for n in drinks.loc[drinks['spirit']<drinks['spirit'].mean()]['cnt'].to_list():\n",
    "    print(n, end=' | ')"
   ]
  },
  {
   "cell_type": "code",
   "execution_count": 155,
   "metadata": {},
   "outputs": [
    {
     "name": "stdout",
     "output_type": "stream",
     "text": [
      "Albania | Andorra | Antigua & Barbuda | Armenia | Bahamas | Barbados | Belarus | Belgium | Belize | Bosnia-Herzegovina | Brazil | Bulgaria | Canada | Chile | China | Cook Islands | Costa Rica | Croatia | Cuba | Cyprus | Czech Republic | Denmark | Dominica | Dominican Republic | Estonia | Finland | France | Gabon | Georgia | Germany | Greece | Grenada | Guyana | Haiti | Honduras | Hungary | India | Ireland | Jamaica | Japan | Kazakhstan | Kyrgyzstan | Latvia | Liberia | Lithuania | Luxembourg | Malta | Mongolia | Montenegro | Netherlands | Nicaragua | Niue | Panama | Paraguay | Peru | Philippines | Poland | Moldova | Romania | Russian Federation | St. Kitts & Nevis | St. Lucia | St. Vincent & the Grenadines | Serbia | Slovakia | Spain | Sri Lanka | Suriname | Switzerland | Thailand | Trinidad & Tobago | Ukraine | United Arab Emirates | United Kingdom | USA | Uzbekistan | Venezuela | "
     ]
    }
   ],
   "source": [
    "# List of countries drinking more spirit than mean value\n",
    "for n in drinks.loc[drinks['spirit']>drinks['spirit'].mean()]['cnt'].to_list():\n",
    "    print(n, end=' | ')"
   ]
  }
 ],
 "metadata": {
  "kernelspec": {
   "display_name": "Python 3",
   "language": "python",
   "name": "python3"
  },
  "language_info": {
   "codemirror_mode": {
    "name": "ipython",
    "version": 3
   },
   "file_extension": ".py",
   "mimetype": "text/x-python",
   "name": "python",
   "nbconvert_exporter": "python",
   "pygments_lexer": "ipython3",
   "version": "3.7.3"
  }
 },
 "nbformat": 4,
 "nbformat_minor": 1
}
