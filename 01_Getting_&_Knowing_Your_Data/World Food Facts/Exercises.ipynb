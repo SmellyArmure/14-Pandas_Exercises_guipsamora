{
 "cells": [
  {
   "cell_type": "markdown",
   "metadata": {},
   "source": [
    "# Exercise 1"
   ]
  },
  {
   "cell_type": "markdown",
   "metadata": {},
   "source": [
    "### Step 1. Go to https://www.kaggle.com/openfoodfacts/world-food-facts/data"
   ]
  },
  {
   "cell_type": "markdown",
   "metadata": {},
   "source": [
    "### Step 2. Download the dataset to your computer and unzip it."
   ]
  },
  {
   "cell_type": "code",
   "execution_count": 1,
   "metadata": {},
   "outputs": [],
   "source": [
    "import sys\n",
    "import os\n",
    "import io\n",
    "import pandas as pd\n",
    "\n",
    "# Checking whether the notebook is on Colab or PC\n",
    "is_colab = 'google.colab' in sys.modules\n",
    "\n",
    "# Installations and importations required for Google Colab version\n",
    "if is_colab==True:\n",
    "  from google.colab import files, output\n",
    "#   !pip install python-stdnum\n",
    "#   !pip install gTTS\n",
    "#   !pip install ipywidgets\n",
    "else:\n",
    "    pass"
   ]
  },
  {
   "cell_type": "markdown",
   "metadata": {},
   "source": [
    "### Step 3. Use the tsv file and assign it to a dataframe called food"
   ]
  },
  {
   "cell_type": "code",
   "execution_count": 12,
   "metadata": {},
   "outputs": [],
   "source": [
    "if is_colab==False:\n",
    "  # Importing database from my current local Git Repo\n",
    "  food = pd.read_csv('../../../../OCR_DS/PROJET 3 - Appli Santé/PROJECT3/DATA/en.openfoodfacts.org.products.csv',\\\n",
    "                     sep='\\t', low_memory=False, encoding ='utf-8', nrows=100)# \n",
    "else:\n",
    "  # Importing database from the Internet\n",
    "  if not os.path.exists('en.openfoodfacts.org.products.csv'):\n",
    "    !wget https://static.openfoodfacts.org/data/en.openfoodfacts.org.products.csv\n",
    "  else:\n",
    "    pass\n",
    "  food = pd.read_csv('en.openfoodfacts.org.products.csv', \\\n",
    "                     sep='\\t', low_memory=False, encoding ='utf-8',)# nrows=100"
   ]
  },
  {
   "cell_type": "markdown",
   "metadata": {},
   "source": [
    "### Step 4. See the first 5 entries"
   ]
  },
  {
   "cell_type": "code",
   "execution_count": 13,
   "metadata": {},
   "outputs": [
    {
     "data": {
      "text/html": [
       "<div>\n",
       "<style scoped>\n",
       "    .dataframe tbody tr th:only-of-type {\n",
       "        vertical-align: middle;\n",
       "    }\n",
       "\n",
       "    .dataframe tbody tr th {\n",
       "        vertical-align: top;\n",
       "    }\n",
       "\n",
       "    .dataframe thead th {\n",
       "        text-align: right;\n",
       "    }\n",
       "</style>\n",
       "<table border=\"1\" class=\"dataframe\">\n",
       "  <thead>\n",
       "    <tr style=\"text-align: right;\">\n",
       "      <th></th>\n",
       "      <th>code</th>\n",
       "      <th>url</th>\n",
       "      <th>creator</th>\n",
       "      <th>created_t</th>\n",
       "      <th>created_datetime</th>\n",
       "      <th>last_modified_t</th>\n",
       "      <th>last_modified_datetime</th>\n",
       "      <th>product_name</th>\n",
       "      <th>generic_name</th>\n",
       "      <th>quantity</th>\n",
       "      <th>...</th>\n",
       "      <th>carbon-footprint-from-meat-or-fish_100g</th>\n",
       "      <th>nutrition-score-fr_100g</th>\n",
       "      <th>nutrition-score-uk_100g</th>\n",
       "      <th>glycemic-index_100g</th>\n",
       "      <th>water-hardness_100g</th>\n",
       "      <th>choline_100g</th>\n",
       "      <th>phylloquinone_100g</th>\n",
       "      <th>beta-glucan_100g</th>\n",
       "      <th>inositol_100g</th>\n",
       "      <th>carnitine_100g</th>\n",
       "    </tr>\n",
       "  </thead>\n",
       "  <tbody>\n",
       "    <tr>\n",
       "      <th>0</th>\n",
       "      <td>0000000000000010</td>\n",
       "      <td>http://world-en.openfoodfacts.org/product/0000...</td>\n",
       "      <td>openfoodfacts-contributors</td>\n",
       "      <td>1550246813</td>\n",
       "      <td>2019-02-15T16:06:53Z</td>\n",
       "      <td>1550246813</td>\n",
       "      <td>2019-02-15T16:06:53Z</td>\n",
       "      <td>NaN</td>\n",
       "      <td>NaN</td>\n",
       "      <td>NaN</td>\n",
       "      <td>...</td>\n",
       "      <td>NaN</td>\n",
       "      <td>NaN</td>\n",
       "      <td>NaN</td>\n",
       "      <td>NaN</td>\n",
       "      <td>NaN</td>\n",
       "      <td>NaN</td>\n",
       "      <td>NaN</td>\n",
       "      <td>NaN</td>\n",
       "      <td>NaN</td>\n",
       "      <td>NaN</td>\n",
       "    </tr>\n",
       "    <tr>\n",
       "      <th>1</th>\n",
       "      <td>000000000000010</td>\n",
       "      <td>http://world-en.openfoodfacts.org/product/0000...</td>\n",
       "      <td>openfoodfacts-contributors</td>\n",
       "      <td>1550246831</td>\n",
       "      <td>2019-02-15T16:07:11Z</td>\n",
       "      <td>1550246831</td>\n",
       "      <td>2019-02-15T16:07:11Z</td>\n",
       "      <td>NaN</td>\n",
       "      <td>NaN</td>\n",
       "      <td>NaN</td>\n",
       "      <td>...</td>\n",
       "      <td>NaN</td>\n",
       "      <td>NaN</td>\n",
       "      <td>NaN</td>\n",
       "      <td>NaN</td>\n",
       "      <td>NaN</td>\n",
       "      <td>NaN</td>\n",
       "      <td>NaN</td>\n",
       "      <td>NaN</td>\n",
       "      <td>NaN</td>\n",
       "      <td>NaN</td>\n",
       "    </tr>\n",
       "    <tr>\n",
       "      <th>2</th>\n",
       "      <td>0000000000017</td>\n",
       "      <td>http://world-en.openfoodfacts.org/product/0000...</td>\n",
       "      <td>kiliweb</td>\n",
       "      <td>1529059080</td>\n",
       "      <td>2018-06-15T10:38:00Z</td>\n",
       "      <td>1561463718</td>\n",
       "      <td>2019-06-25T11:55:18Z</td>\n",
       "      <td>Vitória crackers</td>\n",
       "      <td>NaN</td>\n",
       "      <td>NaN</td>\n",
       "      <td>...</td>\n",
       "      <td>NaN</td>\n",
       "      <td>NaN</td>\n",
       "      <td>NaN</td>\n",
       "      <td>NaN</td>\n",
       "      <td>NaN</td>\n",
       "      <td>NaN</td>\n",
       "      <td>NaN</td>\n",
       "      <td>NaN</td>\n",
       "      <td>NaN</td>\n",
       "      <td>NaN</td>\n",
       "    </tr>\n",
       "    <tr>\n",
       "      <th>3</th>\n",
       "      <td>0000000000031</td>\n",
       "      <td>http://world-en.openfoodfacts.org/product/0000...</td>\n",
       "      <td>isagoofy</td>\n",
       "      <td>1539464774</td>\n",
       "      <td>2018-10-13T21:06:14Z</td>\n",
       "      <td>1539464817</td>\n",
       "      <td>2018-10-13T21:06:57Z</td>\n",
       "      <td>Cacao</td>\n",
       "      <td>NaN</td>\n",
       "      <td>130 g</td>\n",
       "      <td>...</td>\n",
       "      <td>NaN</td>\n",
       "      <td>NaN</td>\n",
       "      <td>NaN</td>\n",
       "      <td>NaN</td>\n",
       "      <td>NaN</td>\n",
       "      <td>NaN</td>\n",
       "      <td>NaN</td>\n",
       "      <td>NaN</td>\n",
       "      <td>NaN</td>\n",
       "      <td>NaN</td>\n",
       "    </tr>\n",
       "    <tr>\n",
       "      <th>4</th>\n",
       "      <td>00000000001111111111</td>\n",
       "      <td>http://world-en.openfoodfacts.org/product/0000...</td>\n",
       "      <td>openfoodfacts-contributors</td>\n",
       "      <td>1560020173</td>\n",
       "      <td>2019-06-08T18:56:13Z</td>\n",
       "      <td>1560020173</td>\n",
       "      <td>2019-06-08T18:56:13Z</td>\n",
       "      <td>Sfiudwx</td>\n",
       "      <td>NaN</td>\n",
       "      <td>dgesc</td>\n",
       "      <td>...</td>\n",
       "      <td>NaN</td>\n",
       "      <td>NaN</td>\n",
       "      <td>NaN</td>\n",
       "      <td>NaN</td>\n",
       "      <td>NaN</td>\n",
       "      <td>NaN</td>\n",
       "      <td>NaN</td>\n",
       "      <td>NaN</td>\n",
       "      <td>NaN</td>\n",
       "      <td>NaN</td>\n",
       "    </tr>\n",
       "  </tbody>\n",
       "</table>\n",
       "<p>5 rows × 175 columns</p>\n",
       "</div>"
      ],
      "text/plain": [
       "                   code                                                url  \\\n",
       "0      0000000000000010  http://world-en.openfoodfacts.org/product/0000...   \n",
       "1       000000000000010  http://world-en.openfoodfacts.org/product/0000...   \n",
       "2         0000000000017  http://world-en.openfoodfacts.org/product/0000...   \n",
       "3         0000000000031  http://world-en.openfoodfacts.org/product/0000...   \n",
       "4  00000000001111111111  http://world-en.openfoodfacts.org/product/0000...   \n",
       "\n",
       "                      creator   created_t      created_datetime  \\\n",
       "0  openfoodfacts-contributors  1550246813  2019-02-15T16:06:53Z   \n",
       "1  openfoodfacts-contributors  1550246831  2019-02-15T16:07:11Z   \n",
       "2                     kiliweb  1529059080  2018-06-15T10:38:00Z   \n",
       "3                    isagoofy  1539464774  2018-10-13T21:06:14Z   \n",
       "4  openfoodfacts-contributors  1560020173  2019-06-08T18:56:13Z   \n",
       "\n",
       "   last_modified_t last_modified_datetime      product_name generic_name  \\\n",
       "0       1550246813   2019-02-15T16:06:53Z               NaN          NaN   \n",
       "1       1550246831   2019-02-15T16:07:11Z               NaN          NaN   \n",
       "2       1561463718   2019-06-25T11:55:18Z  Vitória crackers          NaN   \n",
       "3       1539464817   2018-10-13T21:06:57Z             Cacao          NaN   \n",
       "4       1560020173   2019-06-08T18:56:13Z           Sfiudwx          NaN   \n",
       "\n",
       "  quantity  ... carbon-footprint-from-meat-or-fish_100g  \\\n",
       "0      NaN  ...                                     NaN   \n",
       "1      NaN  ...                                     NaN   \n",
       "2      NaN  ...                                     NaN   \n",
       "3    130 g  ...                                     NaN   \n",
       "4    dgesc  ...                                     NaN   \n",
       "\n",
       "  nutrition-score-fr_100g nutrition-score-uk_100g glycemic-index_100g  \\\n",
       "0                     NaN                     NaN                 NaN   \n",
       "1                     NaN                     NaN                 NaN   \n",
       "2                     NaN                     NaN                 NaN   \n",
       "3                     NaN                     NaN                 NaN   \n",
       "4                     NaN                     NaN                 NaN   \n",
       "\n",
       "  water-hardness_100g choline_100g phylloquinone_100g beta-glucan_100g  \\\n",
       "0                 NaN          NaN                NaN              NaN   \n",
       "1                 NaN          NaN                NaN              NaN   \n",
       "2                 NaN          NaN                NaN              NaN   \n",
       "3                 NaN          NaN                NaN              NaN   \n",
       "4                 NaN          NaN                NaN              NaN   \n",
       "\n",
       "  inositol_100g carnitine_100g  \n",
       "0           NaN            NaN  \n",
       "1           NaN            NaN  \n",
       "2           NaN            NaN  \n",
       "3           NaN            NaN  \n",
       "4           NaN            NaN  \n",
       "\n",
       "[5 rows x 175 columns]"
      ]
     },
     "execution_count": 13,
     "metadata": {},
     "output_type": "execute_result"
    }
   ],
   "source": [
    "food.head()"
   ]
  },
  {
   "cell_type": "markdown",
   "metadata": {},
   "source": [
    "### Step 5. What is the number of observations in the dataset?"
   ]
  },
  {
   "cell_type": "code",
   "execution_count": 14,
   "metadata": {},
   "outputs": [
    {
     "name": "stdout",
     "output_type": "stream",
     "text": [
      "<class 'pandas.core.frame.DataFrame'>\n",
      "RangeIndex: 954463 entries, 0 to 954462\n",
      "Columns: 175 entries, code to carnitine_100g\n",
      "dtypes: float64(117), int64(2), object(56)\n",
      "memory usage: 1.2+ GB\n"
     ]
    }
   ],
   "source": [
    "food.info()"
   ]
  },
  {
   "cell_type": "markdown",
   "metadata": {},
   "source": [
    "### Step 6. What is the number of columns in the dataset?"
   ]
  },
  {
   "cell_type": "code",
   "execution_count": 15,
   "metadata": {},
   "outputs": [
    {
     "data": {
      "text/plain": [
       "175"
      ]
     },
     "execution_count": 15,
     "metadata": {},
     "output_type": "execute_result"
    }
   ],
   "source": [
    "food.shape[1]"
   ]
  },
  {
   "cell_type": "markdown",
   "metadata": {},
   "source": [
    "### Step 7. Print the name of all the columns."
   ]
  },
  {
   "cell_type": "code",
   "execution_count": 16,
   "metadata": {},
   "outputs": [
    {
     "name": "stdout",
     "output_type": "stream",
     "text": [
      "code\n",
      "url\n",
      "creator\n",
      "created_t\n",
      "created_datetime\n",
      "last_modified_t\n",
      "last_modified_datetime\n",
      "product_name\n",
      "generic_name\n",
      "quantity\n",
      "packaging\n",
      "packaging_tags\n",
      "brands\n",
      "brands_tags\n",
      "categories\n",
      "categories_tags\n",
      "categories_en\n",
      "origins\n",
      "origins_tags\n",
      "manufacturing_places\n",
      "manufacturing_places_tags\n",
      "labels\n",
      "labels_tags\n",
      "labels_en\n",
      "emb_codes\n",
      "emb_codes_tags\n",
      "first_packaging_code_geo\n",
      "cities\n",
      "cities_tags\n",
      "purchase_places\n",
      "stores\n",
      "countries\n",
      "countries_tags\n",
      "countries_en\n",
      "ingredients_text\n",
      "allergens\n",
      "allergens_en\n",
      "traces\n",
      "traces_tags\n",
      "traces_en\n",
      "serving_size\n",
      "serving_quantity\n",
      "no_nutriments\n",
      "additives_n\n",
      "additives\n",
      "additives_tags\n",
      "additives_en\n",
      "ingredients_from_palm_oil_n\n",
      "ingredients_from_palm_oil\n",
      "ingredients_from_palm_oil_tags\n",
      "ingredients_that_may_be_from_palm_oil_n\n",
      "ingredients_that_may_be_from_palm_oil\n",
      "ingredients_that_may_be_from_palm_oil_tags\n",
      "nutrition_grade_fr\n",
      "nova_group\n",
      "pnns_groups_1\n",
      "pnns_groups_2\n",
      "states\n",
      "states_tags\n",
      "states_en\n",
      "main_category\n",
      "main_category_en\n",
      "image_url\n",
      "image_small_url\n",
      "image_ingredients_url\n",
      "image_ingredients_small_url\n",
      "image_nutrition_url\n",
      "image_nutrition_small_url\n",
      "energy_100g\n",
      "energy-from-fat_100g\n",
      "fat_100g\n",
      "saturated-fat_100g\n",
      "-butyric-acid_100g\n",
      "-caproic-acid_100g\n",
      "-caprylic-acid_100g\n",
      "-capric-acid_100g\n",
      "-lauric-acid_100g\n",
      "-myristic-acid_100g\n",
      "-palmitic-acid_100g\n",
      "-stearic-acid_100g\n",
      "-arachidic-acid_100g\n",
      "-behenic-acid_100g\n",
      "-lignoceric-acid_100g\n",
      "-cerotic-acid_100g\n",
      "-montanic-acid_100g\n",
      "-melissic-acid_100g\n",
      "monounsaturated-fat_100g\n",
      "polyunsaturated-fat_100g\n",
      "omega-3-fat_100g\n",
      "-alpha-linolenic-acid_100g\n",
      "-eicosapentaenoic-acid_100g\n",
      "-docosahexaenoic-acid_100g\n",
      "omega-6-fat_100g\n",
      "-linoleic-acid_100g\n",
      "-arachidonic-acid_100g\n",
      "-gamma-linolenic-acid_100g\n",
      "-dihomo-gamma-linolenic-acid_100g\n",
      "omega-9-fat_100g\n",
      "-oleic-acid_100g\n",
      "-elaidic-acid_100g\n",
      "-gondoic-acid_100g\n",
      "-mead-acid_100g\n",
      "-erucic-acid_100g\n",
      "-nervonic-acid_100g\n",
      "trans-fat_100g\n",
      "cholesterol_100g\n",
      "carbohydrates_100g\n",
      "sugars_100g\n",
      "-sucrose_100g\n",
      "-glucose_100g\n",
      "-fructose_100g\n",
      "-lactose_100g\n",
      "-maltose_100g\n",
      "-maltodextrins_100g\n",
      "starch_100g\n",
      "polyols_100g\n",
      "fiber_100g\n",
      "proteins_100g\n",
      "casein_100g\n",
      "serum-proteins_100g\n",
      "nucleotides_100g\n",
      "salt_100g\n",
      "sodium_100g\n",
      "alcohol_100g\n",
      "vitamin-a_100g\n",
      "beta-carotene_100g\n",
      "vitamin-d_100g\n",
      "vitamin-e_100g\n",
      "vitamin-k_100g\n",
      "vitamin-c_100g\n",
      "vitamin-b1_100g\n",
      "vitamin-b2_100g\n",
      "vitamin-pp_100g\n",
      "vitamin-b6_100g\n",
      "vitamin-b9_100g\n",
      "folates_100g\n",
      "vitamin-b12_100g\n",
      "biotin_100g\n",
      "pantothenic-acid_100g\n",
      "silica_100g\n",
      "bicarbonate_100g\n",
      "potassium_100g\n",
      "chloride_100g\n",
      "calcium_100g\n",
      "phosphorus_100g\n",
      "iron_100g\n",
      "magnesium_100g\n",
      "zinc_100g\n",
      "copper_100g\n",
      "manganese_100g\n",
      "fluoride_100g\n",
      "selenium_100g\n",
      "chromium_100g\n",
      "molybdenum_100g\n",
      "iodine_100g\n",
      "caffeine_100g\n",
      "taurine_100g\n",
      "ph_100g\n",
      "fruits-vegetables-nuts_100g\n",
      "fruits-vegetables-nuts-dried_100g\n",
      "fruits-vegetables-nuts-estimate_100g\n",
      "collagen-meat-protein-ratio_100g\n",
      "cocoa_100g\n",
      "chlorophyl_100g\n",
      "carbon-footprint_100g\n",
      "carbon-footprint-from-meat-or-fish_100g\n",
      "nutrition-score-fr_100g\n",
      "nutrition-score-uk_100g\n",
      "glycemic-index_100g\n",
      "water-hardness_100g\n",
      "choline_100g\n",
      "phylloquinone_100g\n",
      "beta-glucan_100g\n",
      "inositol_100g\n",
      "carnitine_100g\n"
     ]
    }
   ],
   "source": [
    "for c in food.columns:\n",
    "    print(c)"
   ]
  },
  {
   "cell_type": "markdown",
   "metadata": {},
   "source": [
    "### Step 8. What is the name of 105th column?"
   ]
  },
  {
   "cell_type": "code",
   "execution_count": 18,
   "metadata": {},
   "outputs": [
    {
     "data": {
      "text/plain": [
       "'trans-fat_100g'"
      ]
     },
     "execution_count": 18,
     "metadata": {},
     "output_type": "execute_result"
    }
   ],
   "source": [
    "food.columns[104]"
   ]
  },
  {
   "cell_type": "markdown",
   "metadata": {},
   "source": [
    "### Step 9. What is the type of the observations of the 105th column?"
   ]
  },
  {
   "cell_type": "code",
   "execution_count": 24,
   "metadata": {},
   "outputs": [
    {
     "data": {
      "text/plain": [
       "dtype('float64')"
      ]
     },
     "execution_count": 24,
     "metadata": {},
     "output_type": "execute_result"
    }
   ],
   "source": [
    "food[food.columns[104]].dtype"
   ]
  },
  {
   "cell_type": "markdown",
   "metadata": {},
   "source": [
    "### Step 10. How is the dataset indexed?"
   ]
  },
  {
   "cell_type": "code",
   "execution_count": 25,
   "metadata": {},
   "outputs": [
    {
     "data": {
      "text/plain": [
       "RangeIndex(start=0, stop=954463, step=1)"
      ]
     },
     "execution_count": 25,
     "metadata": {},
     "output_type": "execute_result"
    }
   ],
   "source": [
    "food.index"
   ]
  },
  {
   "cell_type": "markdown",
   "metadata": {},
   "source": [
    "### Step 11. What is the product name of the 19th observation?"
   ]
  },
  {
   "cell_type": "code",
   "execution_count": 26,
   "metadata": {},
   "outputs": [
    {
     "data": {
      "text/plain": [
       "'Salade de fruits exotiques'"
      ]
     },
     "execution_count": 26,
     "metadata": {},
     "output_type": "execute_result"
    }
   ],
   "source": [
    "food['product_name'].iat[18]"
   ]
  }
 ],
 "metadata": {
  "anaconda-cloud": {},
  "kernelspec": {
   "display_name": "Python 3",
   "language": "python",
   "name": "python3"
  },
  "language_info": {
   "codemirror_mode": {
    "name": "ipython",
    "version": 3
   },
   "file_extension": ".py",
   "mimetype": "text/x-python",
   "name": "python",
   "nbconvert_exporter": "python",
   "pygments_lexer": "ipython3",
   "version": "3.7.3"
  }
 },
 "nbformat": 4,
 "nbformat_minor": 1
}
